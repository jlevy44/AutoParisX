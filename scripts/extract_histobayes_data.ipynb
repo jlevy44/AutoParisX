{
 "cells": [
  {
   "cell_type": "code",
   "execution_count": 1,
   "metadata": {},
   "outputs": [],
   "source": [
    "! mkdir histobayes_data"
   ]
  },
  {
   "cell_type": "code",
   "execution_count": 3,
   "metadata": {},
   "outputs": [
    {
     "name": "stdout",
     "output_type": "stream",
     "text": [
      "train_data.pkl\tval_data.pkl\r\n"
     ]
    }
   ],
   "source": [
    "! ls inputs"
   ]
  },
  {
   "cell_type": "code",
   "execution_count": 4,
   "metadata": {},
   "outputs": [],
   "source": [
    "import pandas as pd\n",
    "d=pd.read_pickle(\"inputs/train_data.pkl\")"
   ]
  },
  {
   "cell_type": "code",
   "execution_count": 18,
   "metadata": {},
   "outputs": [
    {
     "data": {
      "text/plain": [
       "89928"
      ]
     },
     "execution_count": 18,
     "metadata": {},
     "output_type": "execute_result"
    }
   ],
   "source": [
    "len(d['y'])"
   ]
  },
  {
   "cell_type": "code",
   "execution_count": 5,
   "metadata": {},
   "outputs": [
    {
     "data": {
      "text/plain": [
       "dict_keys(['X', 'y'])"
      ]
     },
     "execution_count": 5,
     "metadata": {},
     "output_type": "execute_result"
    }
   ],
   "source": [
    "d.keys()"
   ]
  },
  {
   "cell_type": "code",
   "execution_count": 7,
   "metadata": {},
   "outputs": [
    {
     "data": {
      "text/plain": [
       "(12, 10, 3)"
      ]
     },
     "execution_count": 7,
     "metadata": {},
     "output_type": "execute_result"
    }
   ],
   "source": [
    "d['X'][0].shape"
   ]
  },
  {
   "cell_type": "code",
   "execution_count": 10,
   "metadata": {},
   "outputs": [
    {
     "data": {
      "text/plain": [
       "array([0, 1, 2, 3, 4, 5, 6])"
      ]
     },
     "execution_count": 10,
     "metadata": {},
     "output_type": "execute_result"
    }
   ],
   "source": [
    "import numpy as np\n",
    "np.unique(d['y'])"
   ]
  },
  {
   "cell_type": "code",
   "execution_count": 11,
   "metadata": {},
   "outputs": [],
   "source": [
    "!mkdir histobayes_data_old"
   ]
  },
  {
   "cell_type": "code",
   "execution_count": 16,
   "metadata": {},
   "outputs": [
    {
     "name": "stdout",
     "output_type": "stream",
     "text": [
      "2_0.png\r\n"
     ]
    }
   ],
   "source": [
    "from PIL import Image\n",
    "! ls histobayes_data_old"
   ]
  },
  {
   "cell_type": "code",
   "execution_count": 15,
   "metadata": {},
   "outputs": [],
   "source": [
    "Image.fromarray(d['X'][0]).save(f\"histobayes_data_old/{d['y'][0]}_0.png\", \"JPEG\")"
   ]
  },
  {
   "cell_type": "markdown",
   "metadata": {},
   "source": [
    "![a](histobayes_data_old/2_0.png)"
   ]
  },
  {
   "cell_type": "code",
   "execution_count": 22,
   "metadata": {},
   "outputs": [
    {
     "data": {
      "text/plain": [
       "2    63315\n",
       "5    11199\n",
       "3     6114\n",
       "4     3478\n",
       "0     3192\n",
       "6     2410\n",
       "1      220\n",
       "dtype: int64"
      ]
     },
     "execution_count": 22,
     "metadata": {},
     "output_type": "execute_result"
    }
   ],
   "source": [
    "pd.Series(d['y']).value_counts()"
   ]
  },
  {
   "cell_type": "markdown",
   "metadata": {},
   "source": [
    "0-aty\n",
    "1-crys\n",
    "2-debris\n",
    "3-leuk\n",
    "4-neg\n",
    "5-RBC\n",
    "6-sq"
   ]
  },
  {
   "cell_type": "code",
   "execution_count": 87,
   "metadata": {},
   "outputs": [
    {
     "data": {
      "image/png": "[encoded data removed]",
      "text/plain": [
       "<PIL.Image.Image image mode=RGB size=162x103 at 0x2AE604EB5E10>"
      ]
     },
     "execution_count": 87,
     "metadata": {},
     "output_type": "execute_result"
    }
   ],
   "source": [
    "i=57\n",
    "c=6\n",
    "Image.fromarray(d['X'][np.where(pd.Series(d['y'])==c)[0][i]])"
   ]
  },
  {
   "cell_type": "code",
   "execution_count": 88,
   "metadata": {},
   "outputs": [],
   "source": [
    "! mkdir histobayes_data/train histobayes_data/val histobayes_data/test"
   ]
  },
  {
   "cell_type": "code",
   "execution_count": 90,
   "metadata": {},
   "outputs": [],
   "source": [
    "%%bash\n",
    "for k in Leukocytes RBCs aty crystals neg squamous ; do for k2 in train val test; do mkdir histobayes_data/${k2}/${k} ; done ; done"
   ]
  },
  {
   "cell_type": "code",
   "execution_count": 93,
   "metadata": {},
   "outputs": [],
   "source": [
    "assignment_dict={0:\"aty\",\n",
    "                2:\"crystals\",\n",
    "                3:\"Leukocytes\",\n",
    "                4:\"neg\",\n",
    "                5:\"RBCs\",\n",
    "                6:\"squamous\"}"
   ]
  },
  {
   "cell_type": "code",
   "execution_count": 95,
   "metadata": {},
   "outputs": [
    {
     "name": "stderr",
     "output_type": "stream",
     "text": [
      "100%|██████████| 200/200 [00:03<00:00, 60.87it/s]\n",
      "100%|██████████| 200/200 [00:04<00:00, 45.61it/s]\n",
      "100%|██████████| 200/200 [00:02<00:00, 99.10it/s] \n",
      "100%|██████████| 200/200 [00:02<00:00, 68.68it/s]\n",
      "100%|██████████| 200/200 [00:02<00:00, 67.13it/s]\n",
      "100%|██████████| 200/200 [00:03<00:00, 66.55it/s]\n",
      "100%|██████████| 200/200 [00:03<00:00, 50.88it/s]\n",
      "100%|██████████| 200/200 [00:03<00:00, 50.05it/s]\n",
      "100%|██████████| 200/200 [00:03<00:00, 62.23it/s]\n",
      "100%|██████████| 200/200 [00:02<00:00, 84.89it/s]\n",
      "100%|██████████| 200/200 [00:03<00:00, 50.54it/s]\n",
      "100%|██████████| 200/200 [00:03<00:00, 62.92it/s]\n"
     ]
    }
   ],
   "source": [
    "import tqdm\n",
    "n_cells=200\n",
    "c=6\n",
    "for c in assignment_dict:\n",
    "    idx=np.where(pd.Series(d['y']).isin([c]))[0]\n",
    "    np.random.seed(42)\n",
    "    np.random.shuffle(idx)\n",
    "    train_idx=idx[:200]\n",
    "    val_idx=idx[200:400]\n",
    "    test_idx=idx[400:600]\n",
    "\n",
    "    #for i,j in tqdm.tqdm(list(enumerate(train_idx))):#np.where(pd.Series(d['y'])==c)[0][i]\n",
    "    #    Image.fromarray(d['X'][j]).save(f\"histobayes_data/train/{assignment_dict[c]}/{d['y'][j]}_{i}.png\", \"PNG\")\n",
    "        \n",
    "    for i,j in tqdm.tqdm(list(enumerate(val_idx))):#np.where(pd.Series(d['y'])==c)[0][i]\n",
    "        Image.fromarray(d['X'][j]).save(f\"histobayes_data/val/{assignment_dict[c]}/{d['y'][j]}_{i}.png\", \"PNG\")\n",
    "        \n",
    "    for i,j in tqdm.tqdm(list(enumerate(test_idx))):#np.where(pd.Series(d['y'])==c)[0][i]\n",
    "        Image.fromarray(d['X'][j]).save(f\"histobayes_data/test/{assignment_dict[c]}/{d['y'][j]}_{i}.png\", \"PNG\")"
   ]
  },
  {
   "cell_type": "code",
   "execution_count": 97,
   "metadata": {},
   "outputs": [
    {
     "name": "stdout",
     "output_type": "stream",
     "text": [
      "/bin/sh: 1: rsync: not found\r\n"
     ]
    }
   ],
   "source": [
    "! rsync histobayes_data/* ../../../EDIT_Interns/users/glass/new_histobayes_data/ -r"
   ]
  },
  {
   "cell_type": "code",
   "execution_count": 96,
   "metadata": {},
   "outputs": [
    {
     "name": "stdout",
     "output_type": "stream",
     "text": [
      "jlevy\r\n"
     ]
    }
   ],
   "source": [
    "! ls "
   ]
  },
  {
   "cell_type": "code",
   "execution_count": null,
   "metadata": {},
   "outputs": [],
   "source": []
  }
 ],
 "metadata": {
  "kernelspec": {
   "display_name": "Python 3",
   "language": "python",
   "name": "python3"
  },
  "language_info": {
   "codemirror_mode": {
    "name": "ipython",
    "version": 3
   },
   "file_extension": ".py",
   "mimetype": "text/x-python",
   "name": "python",
   "nbconvert_exporter": "python",
   "pygments_lexer": "ipython3",
   "version": "3.7.6"
  }
 },
 "nbformat": 4,
 "nbformat_minor": 4
}
