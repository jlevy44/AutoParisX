{
 "cells": [
  {
   "cell_type": "code",
   "execution_count": null,
   "metadata": {},
   "outputs": [],
   "source": [
    "# liver_v1"
   ]
  },
  {
   "cell_type": "code",
   "execution_count": null,
   "metadata": {},
   "outputs": [],
   "source": [
    "import numpy as np"
   ]
  },
  {
   "cell_type": "code",
   "execution_count": null,
   "metadata": {},
   "outputs": [],
   "source": [
    "import matplotlib, matplotlib.pyplot as plt\n",
    "%matplotlib inline\n"
   ]
  },
  {
   "cell_type": "code",
   "execution_count": null,
   "metadata": {},
   "outputs": [],
   "source": [
    "#! scp intern_repo/new_cell_images/*.npy cell_datasets/liver_v1/seg/"
   ]
  },
  {
   "cell_type": "code",
   "execution_count": null,
   "metadata": {},
   "outputs": [],
   "source": [
    "#! ls intern_repo/new_cell_images/\n",
    "mask,img=np.load(\"intern_repo/new_cell_images/21_11_mask.npy\"),np.load(\"intern_repo/new_cell_images/21_11.npy\")\n",
    "# plt.figure()\n",
    "# plt.imshow()\n",
    "# plt.figure()\n",
    "# plt.imshow()\n",
    "\n",
    "\n"
   ]
  },
  {
   "cell_type": "code",
   "execution_count": null,
   "metadata": {},
   "outputs": [],
   "source": [
    "import brambox as bb\n",
    "import os\n",
    "from os.path import join, basename\n",
    "from pathflowai.utils import load_sql_df, npy2da\n",
    "import skimage\n",
    "import dask, dask.array as da, pandas as pd, numpy as np\n",
    "import argparse\n",
    "from scipy import ndimage\n",
    "from scipy.ndimage.measurements import label as scilabel\n",
    "import pickle\n",
    "from dask.distributed import Client\n",
    "from multiprocessing import Pool\n",
    "from functools import reduce\n",
    "import histomicstk as htk\n",
    "import scipy.stats as sts"
   ]
  },
  {
   "cell_type": "code",
   "execution_count": null,
   "metadata": {},
   "outputs": [],
   "source": [
    "# # obj_labels={}\n",
    "# # for i in range(1,num_classes+1):\n",
    "# #     obj_labels[i]=np.unique(lbls[m==i].flatten())\n",
    "# # rev_label={}\n",
    "# # for k in obj_labels:\n",
    "# #     for i in obj_labels[k]:\n",
    "# #         rev_label[i]=k\n",
    "# # rev_label={k:rev_label[k] for k in sorted(list(rev_label.keys()))}\n",
    "# objProps = list(skimage.measure.regionprops(lbls))"
   ]
  },
  {
   "cell_type": "code",
   "execution_count": null,
   "metadata": {},
   "outputs": [],
   "source": []
  },
  {
   "cell_type": "code",
   "execution_count": null,
   "metadata": {},
   "outputs": [],
   "source": []
  },
  {
   "cell_type": "code",
   "execution_count": null,
   "metadata": {},
   "outputs": [],
   "source": []
  },
  {
   "cell_type": "code",
   "execution_count": null,
   "metadata": {},
   "outputs": [],
   "source": [
    "import copy,cv2,glob"
   ]
  },
  {
   "cell_type": "code",
   "execution_count": null,
   "metadata": {},
   "outputs": [],
   "source": [
    "\n",
    "cell_images=[]\n",
    "for mask in glob.glob(\"intern_repo/new_cell_images/*_mask.npy\"):\n",
    "    img=mask.replace(\"_mask\",\"\")\n",
    "    base=os.path.basename(img).replace(\".npy\",\"\")\n",
    "    print(base)\n",
    "    mask,img=np.load(mask),np.load(img)\n",
    "    lbls,n_lbl=scilabel(mask)\n",
    "\n",
    "    imNucleicompact = htk.segmentation.label.compact(lbls, compaction=3)\n",
    "\n",
    "    k= (imNucleicompact==-1)\n",
    "    imNucleicompact1=np.copy(k)\n",
    "    plt.rcParams['figure.figsize'] = 15,15    \n",
    "    for ii in range(0,k.shape[0]):\n",
    "        for jj in range(0,k.shape[1]):\n",
    "            if imNucleicompact[ii,jj]>0:\n",
    "                imNucleicompact1[ii,jj]=1\n",
    "\n",
    "    imNucleicompact2 = skimage.measure.label(imNucleicompact1,connectivity = 1)\n",
    "\n",
    "    listt = []\n",
    "    seglis = []\n",
    "    list_nuclei = []\n",
    "    right = 0\n",
    "    segment = 0\n",
    "    label = 0\n",
    "    for i in range(1,imNucleicompact2.max()):\n",
    "\n",
    "        k =  (imNucleicompact2==i)\n",
    "        location = np.where(k == 1)\n",
    "        labels = (mask[location]).flatten()\n",
    "        x_min, y_min = min(location[0]),min(location[1])\n",
    "        x_max, y_max = max(location[0]),max(location[1])\n",
    "        space = (x_max-x_min)*(y_max-y_min)\n",
    "\n",
    "        if space<450 and space>100:           \n",
    "            segmentate = k[x_min:x_max,y_min:y_max]\n",
    "            segmentate = np.tile(np.expand_dims(segmentate,axis=2),(1,1,3))\n",
    "            listt.append([x_min,y_min,x_max,y_max])\n",
    "            seglis.append(segmentate)\n",
    "            img1 = copy.deepcopy(img[x_min:x_max,y_min:y_max,:])\n",
    "            img1 = img1*segmentate\n",
    "            img1[img1.sum(2)==0]=255\n",
    "            list_nuclei.append((x_min,x_max,y_min,y_max,sts.mode(labels).mode[0],img1))\n",
    "            #plt.imshow(img1)\n",
    "            #plt.show()\n",
    "\n",
    "        if space>449:\n",
    "            #print i\n",
    "            #print space\n",
    "            kernel = cv2.getStructuringElement(cv2.MORPH_RECT,(7, 7)) \n",
    "            k.dtype=np.uint8\n",
    "            eroded=cv2.erode(k,kernel);\n",
    "            dilated = cv2.dilate(eroded,kernel)\n",
    "            new_seg = skimage.measure.label(dilated,connectivity = 1)\n",
    "            for j in range (1,new_seg.max()+1):\n",
    "                #print 'j=',j\n",
    "                kk =  (new_seg==j)\n",
    "                location1 = np.where(kk == 1)\n",
    "                labels = (mask[location1]).flatten()\n",
    "                \n",
    "                x_min1, y_min1 = min(location1[0]),min(location1[1])\n",
    "                x_max1, y_max1 = max(location1[0]),max(location1[1])\n",
    "                space1 = (x_max1-x_min1)*(y_max1-y_min1)\n",
    "                if space1< 800:\n",
    "                    segmentate = kk[x_min1:x_max1,y_min1:y_max1]\n",
    "                    segmentate = np.tile(np.expand_dims(segmentate,axis=2),(1,1,3))\n",
    "                    listt.append([x_min1,y_min1,x_max1,y_max1])\n",
    "                    seglis.append(segmentate)\n",
    "                    img1 = copy.deepcopy(img[x_min1:x_max1,y_min1:y_max1,:])\n",
    "                    img1 = img1*segmentate\n",
    "                    img1[img1.sum(2)==0]=255\n",
    "                    list_nuclei.append((x_min1,x_max1,y_min1,y_max1,sts.mode(labels).mode[0],img1))\n",
    "    list_nuclei=pd.DataFrame(list_nuclei)\n",
    "    list_nuclei['basename']=base\n",
    "    cell_images.append(list_nuclei)\n",
    "#     break\n",
    "        "
   ]
  },
  {
   "cell_type": "code",
   "execution_count": null,
   "metadata": {},
   "outputs": [],
   "source": [
    "cell_df=pd.concat(cell_images)\n",
    "cell_df.columns=['xmin','xmax','ymin','ymax','label','img','basename']"
   ]
  },
  {
   "cell_type": "code",
   "execution_count": null,
   "metadata": {},
   "outputs": [],
   "source": [
    "cell_df.to_pickle(\"cell_datasets/liver_v1/cluster/liver_nuclei.pkl\")"
   ]
  },
  {
   "cell_type": "code",
   "execution_count": null,
   "metadata": {},
   "outputs": [],
   "source": [
    "# skinv1"
   ]
  },
  {
   "cell_type": "code",
   "execution_count": null,
   "metadata": {},
   "outputs": [],
   "source": [
    "import skimage.io"
   ]
  },
  {
   "cell_type": "code",
   "execution_count": null,
   "metadata": {},
   "outputs": [],
   "source": [
    "files=glob.glob(\"intern_repo/skin_v1/Masks/*\")\n"
   ]
  },
  {
   "cell_type": "code",
   "execution_count": null,
   "metadata": {},
   "outputs": [],
   "source": []
  },
  {
   "cell_type": "code",
   "execution_count": null,
   "metadata": {},
   "outputs": [],
   "source": [
    "plt.imshow((skimage.io.imread(files[0])!=0).sum(2))"
   ]
  },
  {
   "cell_type": "code",
   "execution_count": null,
   "metadata": {},
   "outputs": [],
   "source": [
    "images={}\n",
    "for f in files:\n",
    "    mask=f\n",
    "    base=os.path.splitext(os.path.basename(f))[0]\n",
    "    img=glob.glob(\"intern_repo/skin_v1/HE/{}*\".format(base))\n",
    "    if img:\n",
    "        img=img[0]\n",
    "        mask=skimage.io.imread(mask).sum(2)!=0\n",
    "        if mask.flatten().sum():\n",
    "            lbls=scilabel(mask)[0]\n",
    "            plt.figure()\n",
    "            plt.imshow(lbls)\n",
    "#             print(sts.mode(lbls.flatten()))\n",
    "            region_props=skimage.measure.regionprops_table(lbls,properties=[\"centroid\"])\n",
    "#             print(region_props,\"HI\")\n",
    "            cell_df=pd.DataFrame(region_props)\n",
    "            cell_df.columns=['x','y']\n",
    "            cell_df['basename']=base\n",
    "            images[base]=dict(img=skimage.io.imread(img),\n",
    "                             centroids=cell_df)\n",
    "    \n",
    "    "
   ]
  },
  {
   "cell_type": "code",
   "execution_count": null,
   "metadata": {},
   "outputs": [],
   "source": [
    "import pickle\n"
   ]
  },
  {
   "cell_type": "code",
   "execution_count": null,
   "metadata": {},
   "outputs": [],
   "source": [
    "pickle.dump(images,open('cell_datasets/skin_v1/seg/skin_cell_centroids.pkl','wb'))"
   ]
  },
  {
   "cell_type": "code",
   "execution_count": null,
   "metadata": {},
   "outputs": [],
   "source": [
    "# skin_v2 upload second skin 51_"
   ]
  },
  {
   "cell_type": "code",
   "execution_count": null,
   "metadata": {},
   "outputs": [],
   "source": [
    "# ! ln MOHS/images/41_A2c.npy old_data/final_skin/"
   ]
  },
  {
   "cell_type": "code",
   "execution_count": null,
   "metadata": {},
   "outputs": [],
   "source": [
    "! ls old_data/final_skin/ -lah"
   ]
  },
  {
   "cell_type": "code",
   "execution_count": null,
   "metadata": {},
   "outputs": [],
   "source": [
    "import skimage.io\n",
    "import skimage\n",
    "import cv2\n",
    "import tifffile as tiff \n",
    "import numpy as np\n",
    "import tifffile as tiff\n",
    "\n",
    "# arr=cv2.imread(\"old_data/final_skin/51_D1b_ASAP.tif\")\n",
    "slide1=True\n",
    "arr=(tiff.imread(\"old_data/final_skin/51_D1b_ASAP.tif\") if not slide1 else np.load(\"old_data/final_skin/41_A2c.npy\"))\n"
   ]
  },
  {
   "cell_type": "code",
   "execution_count": null,
   "metadata": {},
   "outputs": [],
   "source": [
    "import xmltodict as xd, numpy as np, pickle\n",
    "from collections import defaultdict"
   ]
  },
  {
   "cell_type": "code",
   "execution_count": null,
   "metadata": {},
   "outputs": [],
   "source": []
  },
  {
   "cell_type": "code",
   "execution_count": null,
   "metadata": {},
   "outputs": [],
   "source": [
    "with open(\"old_data/final_skin/{}.xml\".format(\"41_A2c_ASAP\" if slide1 else \"51_D1b_ASAP\"),\"rb\") as f:\n",
    "    d=xd.parse(f)\n"
   ]
  },
  {
   "cell_type": "code",
   "execution_count": null,
   "metadata": {},
   "outputs": [],
   "source": [
    "# d"
   ]
  },
  {
   "cell_type": "code",
   "execution_count": null,
   "metadata": {},
   "outputs": [],
   "source": [
    "\n",
    "cells=[]\n",
    "cell_dot=[]\n",
    "for i,annotation in enumerate(d['ASAP_Annotations'][\"Annotations\"][\"Annotation\"]):\n",
    "#     print(annotation[\"@PartOfGroup\"])\n",
    "#     print(annotation)\n",
    "#     break\n",
    "#     if annotation[\"@PartOfGroup\"]==\"nuc\":\n",
    "    if annotation[\"@Type\"]==\"Dot\":\n",
    "        cell_dot.append(np.array((float(annotation[\"Coordinates\"][\"Coordinate\"][\"@X\"]),float(annotation[\"Coordinates\"][\"Coordinate\"][\"@Y\"]))))\n",
    "    elif annotation[\"@Type\"]==\"Spline\":\n",
    "        try:\n",
    "            lbl=annotation[\"@PartOfGroup\"]\n",
    "            contour=np.array([(float(coord[\"@X\"]),float(coord[\"@Y\"])) for coord in annotation[\"Coordinates\"][\"Coordinate\"]])\n",
    "            cells.append(contour)\n",
    "        except:\n",
    "            print(i)\n",
    "        "
   ]
  },
  {
   "cell_type": "code",
   "execution_count": null,
   "metadata": {},
   "outputs": [],
   "source": [
    "len(cells)"
   ]
  },
  {
   "cell_type": "code",
   "execution_count": null,
   "metadata": {},
   "outputs": [],
   "source": [
    "import pandas as pd\n",
    "import matplotlib, matplotlib.pyplot as plt\n",
    "matplotlib.rcParams['figure.dpi']=300\n",
    "import seaborn as sns"
   ]
  },
  {
   "cell_type": "code",
   "execution_count": null,
   "metadata": {},
   "outputs": [],
   "source": [
    "contour_df=pd.DataFrame(cells,columns=['contours'])\n",
    "contour_df['xmin']=contour_df['contours'].map(lambda x: x[:,0].min())\n",
    "contour_df['xmax']=contour_df['contours'].map(lambda x: x[:,0].max())\n",
    "contour_df['ymin']=contour_df['contours'].map(lambda x: x[:,1].min())\n",
    "contour_df['ymax']=contour_df['contours'].map(lambda x: x[:,1].max())\n",
    "contour_df['xmean']=contour_df['contours'].map(lambda x: x[:,0].mean())\n",
    "contour_df['ymean']=contour_df['contours'].map(lambda x: x[:,1].mean())"
   ]
  },
  {
   "cell_type": "code",
   "execution_count": null,
   "metadata": {},
   "outputs": [],
   "source": [
    "dot_annotations=pd.DataFrame(cell_dot,columns=['x','y'])"
   ]
  },
  {
   "cell_type": "code",
   "execution_count": null,
   "metadata": {},
   "outputs": [],
   "source": [
    "contour_df.shape"
   ]
  },
  {
   "cell_type": "code",
   "execution_count": null,
   "metadata": {},
   "outputs": [],
   "source": []
  },
  {
   "cell_type": "code",
   "execution_count": null,
   "metadata": {},
   "outputs": [],
   "source": [
    "plt.scatter(*contour_df[['xmean','ymean']].T.values.tolist())"
   ]
  },
  {
   "cell_type": "code",
   "execution_count": null,
   "metadata": {},
   "outputs": [],
   "source": [
    "plt.scatter(*dot_annotations[['x','y']].T.values.tolist())"
   ]
  },
  {
   "cell_type": "code",
   "execution_count": null,
   "metadata": {},
   "outputs": [],
   "source": [
    "from sklearn.cluster import SpectralClustering, AgglomerativeClustering,Birch,KMeans\n",
    "from sklearn.mixture import GaussianMixture,BayesianGaussianMixture\n",
    "from hdbscan import HDBSCAN\n",
    "sc=KMeans(random_state=42,n_clusters=10) if slide1 else BayesianGaussianMixture(n_components=5,random_state=42,covariance_type=\"full\",init_params=\"random\",weight_concentration_prior_type=\"dirichlet_distribution\")#SpectralClustering(n_clusters=7,affinity='nearest_neighbors',assign_labels=\"discretize\",n_neighbors=7)\n",
    "c=sc.fit_predict(dot_annotations)#10"
   ]
  },
  {
   "cell_type": "code",
   "execution_count": null,
   "metadata": {},
   "outputs": [],
   "source": [
    "plt.scatter(*dot_annotations.T.values.tolist(),c=c)\n",
    "len(c),len(contour_df)"
   ]
  },
  {
   "cell_type": "code",
   "execution_count": null,
   "metadata": {},
   "outputs": [],
   "source": [
    "c2=sc.predict(contour_df[['xmean','ymean']])\n",
    "plt.scatter(*contour_df[['xmean','ymean']].T.values.tolist(),c=c2)"
   ]
  },
  {
   "cell_type": "code",
   "execution_count": null,
   "metadata": {},
   "outputs": [],
   "source": [
    "from sklearn.metrics import silhouette_samples\n",
    "import seaborn as sns\n",
    "sns.distplot(silhouette_samples(contour_df[['xmean','ymean']], c2))"
   ]
  },
  {
   "cell_type": "code",
   "execution_count": null,
   "metadata": {},
   "outputs": [],
   "source": [
    "include_contour=(silhouette_samples(contour_df[['xmean','ymean']], c2)>=(0.3 if slide1 else 0.05))\n",
    "contour_df=contour_df[include_contour]#.mean()#0.5\n",
    "c2=c2[include_contour]"
   ]
  },
  {
   "cell_type": "code",
   "execution_count": null,
   "metadata": {},
   "outputs": [],
   "source": [
    "dot_annotations['cluster']=c\n",
    "contour_df['cluster']=c2"
   ]
  },
  {
   "cell_type": "code",
   "execution_count": null,
   "metadata": {},
   "outputs": [],
   "source": [
    "contour_df['perimeter']=contour_df['contours'].map(lambda x: np.sqrt((np.diff(x,axis=0)**2).sum(axis=1)).sum())"
   ]
  },
  {
   "cell_type": "code",
   "execution_count": null,
   "metadata": {},
   "outputs": [],
   "source": [
    "idx_keep=contour_df['perimeter'].values.argsort()[::-1][(4 if slide1 else 8):]\n",
    "contour_df=contour_df.iloc[idx_keep]\n",
    "c2=c2[idx_keep]"
   ]
  },
  {
   "cell_type": "code",
   "execution_count": null,
   "metadata": {},
   "outputs": [],
   "source": []
  },
  {
   "cell_type": "code",
   "execution_count": null,
   "metadata": {},
   "outputs": [],
   "source": [
    "plt.scatter(*contour_df[['xmean','ymean']].T.values.tolist(),c=c2)"
   ]
  },
  {
   "cell_type": "code",
   "execution_count": null,
   "metadata": {},
   "outputs": [],
   "source": [
    "images=[]\n",
    "cluster_box=dict()\n",
    "for i,(name,dff) in enumerate(dot_annotations.groupby(\"cluster\")):\n",
    "#     if i==2:\n",
    "    xmin,xmax,ymin,ymax=dff['x'].min(),dff['x'].max(),dff['y'].min(),dff['y'].max()\n",
    "    xmin,xmax,ymin,ymax=int(xmin)-20,int(xmax)+20,int(ymin)-20,int(ymax)+20\n",
    "    cluster_box[name]=[xmin,xmax,ymin,ymax]\n",
    "    dff.loc[:,'x']=dff['x']-xmin\n",
    "    dff.loc[:,'y']=dff['y']-ymin\n",
    "    images.append(dict(dot_annot=dff,\n",
    "                       region_box=cluster_box[name]))\n",
    "    plt.figure()\n",
    "    plt.imshow(arr[ymin:ymax,xmin:xmax,:])\n",
    "    plt.scatter(dff['x'],dff['y'])\n"
   ]
  },
  {
   "cell_type": "code",
   "execution_count": null,
   "metadata": {},
   "outputs": [],
   "source": [
    "! ls old_data/"
   ]
  },
  {
   "cell_type": "code",
   "execution_count": null,
   "metadata": {},
   "outputs": [],
   "source": [
    "import numpy as np\n",
    "import copy\n",
    "from scipy.interpolate import splprep, splev\n",
    "import matplotlib.pyplot as plt\n",
    "\n",
    "# define pts from the question\n",
    "def fit_spline(pts):\n",
    "    try:\n",
    "        tck, u = splprep(pts.T, u=None, s=0.0, per=1) \n",
    "        u_new = np.linspace(u.min(), u.max(), 1000)\n",
    "        x_new, y_new = splev(u_new, tck, der=0)\n",
    "        pts=np.vstack((x_new, y_new)).T\n",
    "    except:\n",
    "        pass\n",
    "\n",
    "#     plt.plot(pts[:,0], pts[:,1], 'ro')\n",
    "#     plt.plot(x_new, y_new, 'b--')\n",
    "    return pts\n",
    "\n",
    "for i,(name,dff) in enumerate(contour_df.groupby(\"cluster\")):\n",
    "#     if i==3:\n",
    "    xmin,xmax,ymin,ymax=cluster_box[name]\n",
    "    img=copy.deepcopy(arr[ymin:ymax,xmin:xmax,:])\n",
    "    images[i]['img']=img\n",
    "    dff.loc[:,'contours']=dff['contours'].map(lambda x: x-np.array([xmin,ymin])).map(fit_spline)\n",
    "    images[i]['contours']=dff\n",
    "    \n",
    "    plt.figure()\n",
    "    plt.imshow(arr[ymin:ymax,xmin:xmax,:])\n",
    "    for contour in dff['contours'].values:\n",
    "        try:\n",
    "            plt.plot(*contour.T.tolist())#.T.tolist()\n",
    "        except:\n",
    "            pass\n",
    "#     break"
   ]
  },
  {
   "cell_type": "code",
   "execution_count": null,
   "metadata": {},
   "outputs": [],
   "source": [
    "from skimage import draw\n",
    "import numpy as np\n",
    "def poly2mask(vertex_row_coords, vertex_col_coords, shape):\n",
    "    fill_row_coords, fill_col_coords = draw.polygon(vertex_row_coords, vertex_col_coords, shape)\n",
    "    mask = np.zeros(shape, dtype=np.bool)\n",
    "    mask[fill_row_coords, fill_col_coords] = True\n",
    "    return mask"
   ]
  },
  {
   "cell_type": "code",
   "execution_count": null,
   "metadata": {},
   "outputs": [],
   "source": [
    "contours_df2=contour_df.copy()\n",
    "contours_df2.loc[:,'contours']=contours_df2['contours'].map(fit_spline)\n",
    "contours_df2['xmin']=contours_df2['contours'].map(lambda x: x[:,0].min())\n",
    "contours_df2['xmax']=contours_df2['contours'].map(lambda x: x[:,0].max())\n",
    "contours_df2['ymin']=contours_df2['contours'].map(lambda x: x[:,1].min())\n",
    "contours_df2['ymax']=contours_df2['contours'].map(lambda x: x[:,1].max())\n"
   ]
  },
  {
   "cell_type": "code",
   "execution_count": null,
   "metadata": {},
   "outputs": [],
   "source": [
    "cell_imgs=[]\n",
    "for i in range(contours_df2.shape[0]):\n",
    "#     if i==500:\n",
    "    xmin,xmax,ymin,ymax=contours_df2.iloc[i][['xmin','xmax','ymin','ymax']]\n",
    "    xmin=int(xmin)\n",
    "    ymin=int(ymin)\n",
    "    xmax=int(round(xmax))\n",
    "    ymax=int(round(ymax))\n",
    "    contour=contours_df2.iloc[i]['contours']-np.array([xmin,ymin])\n",
    "    img=copy.deepcopy(arr[ymin:ymax,xmin:xmax,:])\n",
    "    mask=poly2mask(contour[:,1],contour[:,0],img.shape[:2])\n",
    "    img[~mask]=255\n",
    "    cell_imgs.append(img)\n",
    "#         plt.imshow(img)\n",
    "#         break"
   ]
  },
  {
   "cell_type": "code",
   "execution_count": null,
   "metadata": {},
   "outputs": [],
   "source": [
    "pickle.dump(images,open(\"cell_datasets/skin_v2/seg/skin_dot_shape_annotations_images.pkl\",'wb'))"
   ]
  },
  {
   "cell_type": "code",
   "execution_count": null,
   "metadata": {},
   "outputs": [],
   "source": [
    "contours_df2['cell_img']=cell_imgs\n",
    "contours_df2.to_pickle(\"cell_datasets/skin_v2/cluster/skin_cell_images.pkl\")"
   ]
  },
  {
   "cell_type": "code",
   "execution_count": null,
   "metadata": {},
   "outputs": [],
   "source": [
    "# colon"
   ]
  },
  {
   "cell_type": "code",
   "execution_count": null,
   "metadata": {},
   "outputs": [],
   "source": [
    "import numpy as np\n",
    "arr=np.load(\"intern_repo/18_G7_3_orig.npy\")"
   ]
  },
  {
   "cell_type": "code",
   "execution_count": null,
   "metadata": {},
   "outputs": [],
   "source": [
    "import xmltodict as xd, numpy as np, pickle\n",
    "from collections import defaultdict"
   ]
  },
  {
   "cell_type": "code",
   "execution_count": null,
   "metadata": {},
   "outputs": [],
   "source": [
    "with open(\"intern_repo/18_G7_3_orig_nuclei.xml\",\"rb\") as f:\n",
    "    d=xd.parse(f)\n",
    "#     d_h=None\n",
    "#     d_h=d['ASAP_Annotations']['AnnotationGroups']\n",
    "\n",
    "\n",
    "    d_final=defaultdict(list)\n",
    "#     try:\n",
    "#         for i,annotation in enumerate(d['ASAP_Annotations'][\"Annotations\"][\"Annotation\"]):"
   ]
  },
  {
   "cell_type": "code",
   "execution_count": null,
   "metadata": {},
   "outputs": [],
   "source": [
    "cells=[]\n",
    "cell_dot=[]\n",
    "for i,annotation in enumerate(d['ASAP_Annotations'][\"Annotations\"][\"Annotation\"]):\n",
    "#     print(annotation[\"@PartOfGroup\"])\n",
    "    if annotation[\"@PartOfGroup\"]==\"nuc\":\n",
    "        if annotation[\"@Type\"]==\"Dot\":\n",
    "            cell_dot.append(np.array((float(annotation[\"Coordinates\"][\"Coordinate\"][\"@X\"]),float(annotation[\"Coordinates\"][\"Coordinate\"][\"@Y\"]))))\n",
    "        elif annotation[\"@Type\"]==\"Spline\":\n",
    "            lbl=annotation[\"@PartOfGroup\"]\n",
    "            contour=np.array([(float(coord[\"@X\"]),float(coord[\"@Y\"])) for coord in annotation[\"Coordinates\"][\"Coordinate\"]])\n",
    "            cells.append(contour)\n",
    "        "
   ]
  },
  {
   "cell_type": "code",
   "execution_count": null,
   "metadata": {},
   "outputs": [],
   "source": [
    "contour_df=pd.DataFrame(cells,columns=['contours'])\n",
    "contour_df['xmin']=contour_df['contours'].map(lambda x: x[:,0].min())\n",
    "contour_df['xmax']=contour_df['contours'].map(lambda x: x[:,0].max())\n",
    "contour_df['ymin']=contour_df['contours'].map(lambda x: x[:,1].min())\n",
    "contour_df['ymax']=contour_df['contours'].map(lambda x: x[:,1].max())\n",
    "contour_df['xmean']=contour_df['contours'].map(lambda x: x[:,0].mean())\n",
    "contour_df['ymean']=contour_df['contours'].map(lambda x: x[:,1].mean())"
   ]
  },
  {
   "cell_type": "code",
   "execution_count": null,
   "metadata": {},
   "outputs": [],
   "source": [
    "plt.scatter(*contour_df[['xmean','ymean']].T.values.tolist())"
   ]
  },
  {
   "cell_type": "code",
   "execution_count": null,
   "metadata": {},
   "outputs": [],
   "source": [
    "dot_annotations=pd.DataFrame(cell_dot,columns=['x','y'])"
   ]
  },
  {
   "cell_type": "code",
   "execution_count": null,
   "metadata": {},
   "outputs": [],
   "source": [
    "from sklearn.cluster import SpectralClustering, AgglomerativeClustering,Birch,KMeans\n",
    "sc=KMeans(random_state=42,n_clusters=9)#SpectralClustering(n_clusters=7,affinity='nearest_neighbors',assign_labels=\"discretize\",n_neighbors=7)\n",
    "c=sc.fit_predict(dot_annotations)\n",
    "c[np.isin(c,[0,6,7])]=0"
   ]
  },
  {
   "cell_type": "code",
   "execution_count": null,
   "metadata": {},
   "outputs": [],
   "source": [
    "c2=sc.predict(contour_df[['xmean','ymean']])\n",
    "c2[np.isin(c2,[0,6,7])]=0\n",
    "contour_df['cluster']=c2"
   ]
  },
  {
   "cell_type": "code",
   "execution_count": null,
   "metadata": {},
   "outputs": [],
   "source": [
    "plt.scatter(*dot_annotations.T.values.tolist(),c=c)"
   ]
  },
  {
   "cell_type": "code",
   "execution_count": null,
   "metadata": {},
   "outputs": [],
   "source": [
    "dot_annotations['cluster']=c"
   ]
  },
  {
   "cell_type": "code",
   "execution_count": null,
   "metadata": {},
   "outputs": [],
   "source": [
    "images=[]\n",
    "cluster_box=dict()\n",
    "for i,(name,dff) in enumerate(dot_annotations.groupby(\"cluster\")):\n",
    "#     if i==2:\n",
    "    xmin,xmax,ymin,ymax=dff['x'].min(),dff['x'].max(),dff['y'].min(),dff['y'].max()\n",
    "    xmin,xmax,ymin,ymax=int(xmin)-20,int(xmax)+20,int(ymin)-20,int(ymax)+20\n",
    "    cluster_box[name]=[xmin,xmax,ymin,ymax]\n",
    "    dff.loc[:,'x']=dff['x']-xmin\n",
    "    dff.loc[:,'y']=dff['y']-ymin\n",
    "    images.append(dict(dot_annot=dff,\n",
    "                       region_box=cluster_box[name]))\n",
    "    plt.figure()\n",
    "    plt.imshow(arr[ymin:ymax,xmin:xmax,:])\n",
    "    plt.scatter(dff['x'],dff['y'])\n"
   ]
  },
  {
   "cell_type": "code",
   "execution_count": null,
   "metadata": {},
   "outputs": [],
   "source": []
  },
  {
   "cell_type": "code",
   "execution_count": 5,
   "metadata": {},
   "outputs": [
    {
     "ename": "NameError",
     "evalue": "name 'contour_df' is not defined",
     "output_type": "error",
     "traceback": [
      "\u001b[0;31m---------------------------------------------------------------------------\u001b[0m",
      "\u001b[0;31mNameError\u001b[0m                                 Traceback (most recent call last)",
      "\u001b[0;32m<ipython-input-5-617325e95ab6>\u001b[0m in \u001b[0;36m<module>\u001b[0;34m\u001b[0m\n\u001b[1;32m     17\u001b[0m     \u001b[0;32mreturn\u001b[0m \u001b[0mpts\u001b[0m\u001b[0;34m\u001b[0m\u001b[0;34m\u001b[0m\u001b[0m\n\u001b[1;32m     18\u001b[0m \u001b[0;34m\u001b[0m\u001b[0m\n\u001b[0;32m---> 19\u001b[0;31m \u001b[0;32mfor\u001b[0m \u001b[0mi\u001b[0m\u001b[0;34m,\u001b[0m\u001b[0;34m(\u001b[0m\u001b[0mname\u001b[0m\u001b[0;34m,\u001b[0m\u001b[0mdff\u001b[0m\u001b[0;34m)\u001b[0m \u001b[0;32min\u001b[0m \u001b[0menumerate\u001b[0m\u001b[0;34m(\u001b[0m\u001b[0mcontour_df\u001b[0m\u001b[0;34m.\u001b[0m\u001b[0mgroupby\u001b[0m\u001b[0;34m(\u001b[0m\u001b[0;34m\"cluster\"\u001b[0m\u001b[0;34m)\u001b[0m\u001b[0;34m)\u001b[0m\u001b[0;34m:\u001b[0m\u001b[0;34m\u001b[0m\u001b[0;34m\u001b[0m\u001b[0m\n\u001b[0m\u001b[1;32m     20\u001b[0m \u001b[0;31m#     if i==3:\u001b[0m\u001b[0;34m\u001b[0m\u001b[0;34m\u001b[0m\u001b[0;34m\u001b[0m\u001b[0m\n\u001b[1;32m     21\u001b[0m     \u001b[0mxmin\u001b[0m\u001b[0;34m,\u001b[0m\u001b[0mxmax\u001b[0m\u001b[0;34m,\u001b[0m\u001b[0mymin\u001b[0m\u001b[0;34m,\u001b[0m\u001b[0mymax\u001b[0m\u001b[0;34m=\u001b[0m\u001b[0mcluster_box\u001b[0m\u001b[0;34m[\u001b[0m\u001b[0mname\u001b[0m\u001b[0;34m]\u001b[0m\u001b[0;34m\u001b[0m\u001b[0;34m\u001b[0m\u001b[0m\n",
      "\u001b[0;31mNameError\u001b[0m: name 'contour_df' is not defined"
     ]
    }
   ],
   "source": [
    "import numpy as np\n",
    "from scipy.interpolate import splprep, splev\n",
    "import matplotlib.pyplot as plt\n",
    "\n",
    "# define pts from the question\n",
    "def fit_spline(pts):\n",
    "    try:\n",
    "        tck, u = splprep(pts.T, u=None, s=0.0, per=1) \n",
    "        u_new = np.linspace(u.min(), u.max(), 1000)\n",
    "        x_new, y_new = splev(u_new, tck, der=0)\n",
    "        pts=np.vstack((x_new, y_new)).T\n",
    "    except:\n",
    "        pass\n",
    "\n",
    "#     plt.plot(pts[:,0], pts[:,1], 'ro')\n",
    "#     plt.plot(x_new, y_new, 'b--')\n",
    "    return pts\n",
    "\n",
    "for i,(name,dff) in enumerate(contour_df.groupby(\"cluster\")):\n",
    "#     if i==3:\n",
    "    xmin,xmax,ymin,ymax=cluster_box[name]\n",
    "    img=copy.deepcopy(arr[ymin:ymax,xmin:xmax,:])\n",
    "    images[i]['img']=img\n",
    "    dff.loc[:,'contours']=dff['contours'].map(lambda x: x-np.array([xmin,ymin])).map(fit_spline)\n",
    "    images[i]['contours']=dff\n",
    "    \n",
    "    plt.figure()\n",
    "    plt.imshow(arr[ymin:ymax,xmin:xmax,:])\n",
    "    for contour in dff['contours'].values:\n",
    "        try:\n",
    "            plt.plot(*contour.T.tolist())#.T.tolist()\n",
    "        except:\n",
    "            pass\n",
    "#     break"
   ]
  },
  {
   "cell_type": "code",
   "execution_count": null,
   "metadata": {},
   "outputs": [],
   "source": [
    "pickle.dump(images,open(\"cell_datasets/colon/seg/colon_dot_shape_annotations_images.pkl\",'wb'))"
   ]
  },
  {
   "cell_type": "code",
   "execution_count": null,
   "metadata": {},
   "outputs": [],
   "source": [
    "contour_df"
   ]
  },
  {
   "cell_type": "code",
   "execution_count": null,
   "metadata": {},
   "outputs": [],
   "source": [
    "from skimage import draw\n",
    "import numpy as np\n",
    "def poly2mask(vertex_row_coords, vertex_col_coords, shape):\n",
    "    fill_row_coords, fill_col_coords = draw.polygon(vertex_row_coords, vertex_col_coords, shape)\n",
    "    mask = np.zeros(shape, dtype=np.bool)\n",
    "    mask[fill_row_coords, fill_col_coords] = True\n",
    "    return mask"
   ]
  },
  {
   "cell_type": "code",
   "execution_count": 2,
   "metadata": {},
   "outputs": [
    {
     "ename": "NameError",
     "evalue": "name 'cv2' is not defined",
     "output_type": "error",
     "traceback": [
      "\u001b[0;31m---------------------------------------------------------------------------\u001b[0m",
      "\u001b[0;31mNameError\u001b[0m                                 Traceback (most recent call last)",
      "\u001b[0;32m<ipython-input-2-dbe0d10d2024>\u001b[0m in \u001b[0;36m<module>\u001b[0;34m\u001b[0m\n\u001b[0;32m----> 1\u001b[0;31m \u001b[0mnuclei\u001b[0m\u001b[0;34m=\u001b[0m\u001b[0mcv2\u001b[0m\u001b[0;34m.\u001b[0m\u001b[0mfillPoly\u001b[0m\u001b[0;34m(\u001b[0m\u001b[0mnp\u001b[0m\u001b[0;34m.\u001b[0m\u001b[0mzeros\u001b[0m\u001b[0;34m(\u001b[0m\u001b[0mimg\u001b[0m\u001b[0;34m.\u001b[0m\u001b[0mshape\u001b[0m\u001b[0;34m[\u001b[0m\u001b[0;34m:\u001b[0m\u001b[0;36m2\u001b[0m\u001b[0;34m]\u001b[0m\u001b[0;34m)\u001b[0m\u001b[0;34m,\u001b[0m \u001b[0mpts\u001b[0m\u001b[0;34m=\u001b[0m\u001b[0mcontour_df\u001b[0m\u001b[0;34m[\u001b[0m\u001b[0;34m'contours_spline'\u001b[0m\u001b[0;34m]\u001b[0m\u001b[0;34m.\u001b[0m\u001b[0mmap\u001b[0m\u001b[0;34m(\u001b[0m\u001b[0;32mlambda\u001b[0m \u001b[0mx\u001b[0m\u001b[0;34m:\u001b[0m\u001b[0mx\u001b[0m\u001b[0;34m.\u001b[0m\u001b[0mastype\u001b[0m\u001b[0;34m(\u001b[0m\u001b[0mint\u001b[0m\u001b[0;34m)\u001b[0m\u001b[0;34m)\u001b[0m\u001b[0;34m.\u001b[0m\u001b[0mtolist\u001b[0m\u001b[0;34m(\u001b[0m\u001b[0;34m)\u001b[0m\u001b[0;34m,\u001b[0m \u001b[0mcolor\u001b[0m\u001b[0;34m=\u001b[0m\u001b[0;36m1\u001b[0m\u001b[0;34m)\u001b[0m\u001b[0;34m\u001b[0m\u001b[0;34m\u001b[0m\u001b[0m\n\u001b[0m",
      "\u001b[0;31mNameError\u001b[0m: name 'cv2' is not defined"
     ]
    }
   ],
   "source": [
    "nuclei=cv2.fillPoly(np.zeros(img.shape[:2]), pts=contour_df['contours_spline'].map(lambda x:x.astype(int)).tolist(), color=1)"
   ]
  },
  {
   "cell_type": "code",
   "execution_count": null,
   "metadata": {},
   "outputs": [],
   "source": [
    "contours_df2=contour_df.copy()\n",
    "contours_df2.loc[:,'contours']=contours_df2['contours'].map(fit_spline)\n",
    "contours_df2['xmin']=contours_df2['contours'].map(lambda x: x[:,0].min())\n",
    "contours_df2['xmax']=contours_df2['contours'].map(lambda x: x[:,0].max())\n",
    "contours_df2['ymin']=contours_df2['contours'].map(lambda x: x[:,1].min())\n",
    "contours_df2['ymax']=contours_df2['contours'].map(lambda x: x[:,1].max())\n"
   ]
  },
  {
   "cell_type": "code",
   "execution_count": null,
   "metadata": {},
   "outputs": [],
   "source": [
    "cell_imgs=[]\n",
    "for i in range(contours_df2.shape[0]):\n",
    "#     if i==500:\n",
    "    xmin,xmax,ymin,ymax=contours_df2.iloc[i][['xmin','xmax','ymin','ymax']]\n",
    "    xmin=int(xmin)\n",
    "    ymin=int(ymin)\n",
    "    xmax=int(round(xmax))\n",
    "    ymax=int(round(ymax))\n",
    "    contour=contours_df2.iloc[i]['contours']-np.array([xmin,ymin])\n",
    "    img=copy.deepcopy(arr[ymin:ymax,xmin:xmax,:])\n",
    "    mask=poly2mask(contour[:,1],contour[:,0],img.shape[:2])\n",
    "    img[~mask]=255\n",
    "    cell_imgs.append(img)\n",
    "#         plt.imshow(img)\n",
    "#         break"
   ]
  },
  {
   "cell_type": "code",
   "execution_count": null,
   "metadata": {},
   "outputs": [],
   "source": [
    "contours_df2['cell_img']=cell_imgs"
   ]
  },
  {
   "cell_type": "code",
   "execution_count": null,
   "metadata": {},
   "outputs": [],
   "source": [
    "contours_df2.to_pickle(\"cell_datasets/colon/cluster/colon_cell_images.pkl\")"
   ]
  },
  {
   "cell_type": "code",
   "execution_count": null,
   "metadata": {},
   "outputs": [],
   "source": [
    "# autoparis"
   ]
  },
  {
   "cell_type": "code",
   "execution_count": null,
   "metadata": {},
   "outputs": [],
   "source": [
    "! ls"
   ]
  },
  {
   "cell_type": "code",
   "execution_count": null,
   "metadata": {},
   "outputs": [],
   "source": [
    "! ls autoparis/images"
   ]
  },
  {
   "cell_type": "code",
   "execution_count": null,
   "metadata": {},
   "outputs": [],
   "source": []
  },
  {
   "cell_type": "code",
   "execution_count": null,
   "metadata": {},
   "outputs": [],
   "source": [
    "cell_dfs=[]\n",
    "for k in [x.split(\"_\")[1] for x in glob.glob(\"autoparis/images/*\") if x.split(\"_\")[1]!=\"unsorted\"]:\n",
    "    print(k)\n",
    "    cell_df=pd.DataFrame(pickle.load(open(f'autoparis/images/all_{k}_arrlist.p','rb')),columns=['image'])\n",
    "    cell_df['label']=k\n",
    "    cell_dfs.append(cell_df)"
   ]
  },
  {
   "cell_type": "code",
   "execution_count": null,
   "metadata": {},
   "outputs": [],
   "source": [
    "cell_df=pd.concat(cell_dfs)"
   ]
  },
  {
   "cell_type": "code",
   "execution_count": null,
   "metadata": {},
   "outputs": [],
   "source": [
    "cell_df.shape"
   ]
  },
  {
   "cell_type": "code",
   "execution_count": null,
   "metadata": {},
   "outputs": [],
   "source": [
    "cell_df.to_pickle(\"cell_datasets/autoparis/cluster/autoparis_cell_images.pkl\")"
   ]
  },
  {
   "cell_type": "code",
   "execution_count": null,
   "metadata": {},
   "outputs": [],
   "source": [
    "# tcga"
   ]
  },
  {
   "cell_type": "code",
   "execution_count": null,
   "metadata": {},
   "outputs": [],
   "source": [
    "\n",
    "from numpy import array as to_numpy_array, int32 as npint32\n",
    "import xml.etree.ElementTree as ET\n",
    "\n",
    "base=\"TCGA-E2-A14V-01Z-00-DX1\"#\"TCGA-49-4488-01Z-00-DX1\"#\"TCGA-18-5592-01Z-00-DX1\"\n",
    "tcga_imgs=dict()\n",
    "for f in glob.glob(\"TCGA_images/*.png\"):\n",
    "    base=f.split(\"/\")[-1].split(\".png\")[0]\n",
    "    tree = ET.parse(f\"TCGA_images/{base}.xml\")\n",
    "\n",
    "    contours = [\n",
    "        to_numpy_array(\n",
    "            [[float(vertex.get(\"X\")), float(vertex.get(\"Y\"))]\n",
    "                for vertex in region],\n",
    "            # np.int32 is necessary for cv2.drawContours\n",
    "            dtype=npint32)\n",
    "        for region in tree.getroot().iter(\"Vertices\")\n",
    "    ]\n",
    "    tcga_imgs[base]=dict(img=skimage.io.imread(f\"TCGA_images/{base}.png\"),\n",
    "         contours=contours,\n",
    "         bboxes=[(contour[:,0].min(),contour[:,0].max(),contour[:,1].min(),contour[:,1].max()) for contour in contours])"
   ]
  },
  {
   "cell_type": "code",
   "execution_count": null,
   "metadata": {},
   "outputs": [],
   "source": [
    "pickle.dump(tcga_imgs,open('cell_datasets/tcga/seg/tcga_segmentation_bbox.pkl','wb'))"
   ]
  },
  {
   "cell_type": "code",
   "execution_count": null,
   "metadata": {},
   "outputs": [],
   "source": [
    "tcga_cell_imgs={}\n",
    "for k in tcga_imgs:\n",
    "    tcga_cell_imgs[k]=dict(cell_images=[],\n",
    "                          bboxes=tcga_imgs[k][\"bboxes\"])\n",
    "    for i in range(len(tcga_imgs[k][\"bboxes\"])):\n",
    "        xmin,xmax,ymin,ymax=tcga_imgs[k][\"bboxes\"][i]\n",
    "        xmin=int(xmin)\n",
    "        ymin=int(ymin)\n",
    "        xmax=int(round(xmax))\n",
    "        ymax=int(round(ymax))\n",
    "        contour=tcga_imgs[k]['contours'][i]-np.array([xmin,ymin])\n",
    "        img=copy.deepcopy(tcga_imgs[k]['img'][ymin:ymax,xmin:xmax,:])\n",
    "        mask=poly2mask(contour[:,1],contour[:,0],img.shape[:2])\n",
    "        img[~mask]=255\n",
    "#         plt.figure()\n",
    "#         plt.imshow(img)\n",
    "        tcga_cell_imgs[k]['cell_images'].append(img)\n",
    "    tcga_cell_imgs[k]=pd.DataFrame(tcga_cell_imgs[k])\n",
    "    tcga_cell_imgs[k]['base']=k\n",
    "tcga_cell_imgs=pd.concat([tcga_cell_imgs[k] for k in tcga_cell_imgs])"
   ]
  },
  {
   "cell_type": "code",
   "execution_count": null,
   "metadata": {},
   "outputs": [],
   "source": [
    "# plt.imshow(tcga_cell_imgs.iloc[1000,0])"
   ]
  },
  {
   "cell_type": "code",
   "execution_count": null,
   "metadata": {},
   "outputs": [],
   "source": [
    "tcga_cell_imgs.to_pickle(\"cell_datasets/tcga/cluster/tcga_cells.pkl\")"
   ]
  },
  {
   "cell_type": "code",
   "execution_count": null,
   "metadata": {},
   "outputs": [],
   "source": [
    "# matplotlib.rcParams['figure.dpi']=400\n",
    "# plt.imshow(skimage.io.imread(f\"TCGA_images/{base}.png\"))\n",
    "# for contour in contours:\n",
    "#     plt.plot(*contour.T.tolist(),linewidth=1)"
   ]
  },
  {
   "cell_type": "code",
   "execution_count": null,
   "metadata": {},
   "outputs": [],
   "source": [
    "# tcia"
   ]
  },
  {
   "cell_type": "code",
   "execution_count": null,
   "metadata": {},
   "outputs": [],
   "source": [
    "! ls"
   ]
  },
  {
   "cell_type": "code",
   "execution_count": null,
   "metadata": {},
   "outputs": [],
   "source": [
    "files=glob.glob(\"tcia_cells/manual_segmentation_data/1197*\")[:10]"
   ]
  },
  {
   "cell_type": "code",
   "execution_count": null,
   "metadata": {},
   "outputs": [],
   "source": [
    "imgs=glob.glob(\"tcia_cells/manual_segmentation_data/*_crop.png\")"
   ]
  },
  {
   "cell_type": "code",
   "execution_count": null,
   "metadata": {},
   "outputs": [],
   "source": [
    "# plt.imshow(skimage.io.imread(files[0]))"
   ]
  },
  {
   "cell_type": "code",
   "execution_count": null,
   "metadata": {},
   "outputs": [],
   "source": [
    "files"
   ]
  },
  {
   "cell_type": "code",
   "execution_count": null,
   "metadata": {},
   "outputs": [],
   "source": [
    "! scp tcia_cells/manual_segmentation_data/*_crop.png cell_datasets/tcia/seg/"
   ]
  },
  {
   "cell_type": "code",
   "execution_count": null,
   "metadata": {},
   "outputs": [],
   "source": [
    "cell_dfs=[]\n",
    "for img in imgs:\n",
    "    print(img)\n",
    "    mask=img.replace(\"_crop\",\"_labeled_mask_corrected\")\n",
    "    img,lbls=skimage.io.imread(img),skimage.io.imread(mask)\n",
    "    np.save(\"cell_datasets/tcia/seg/{}\".format(os.path.basename(mask).replace(\".png\",\".npy\")),lbls)\n",
    "    \n",
    "    bboxes=[]\n",
    "    cells=[]\n",
    "    lbl_id=sorted(np.unique(lbls.flatten()))\n",
    "    regions = skimage.measure.regionprops(lbls)\n",
    "    for i,region in enumerate(regions):\n",
    "        xmin,ymin,xmax,ymax=region.bbox\n",
    "        if xmin>0 and ymin>0 and xmax<255 and ymax<255:\n",
    "            im1=copy.deepcopy(img[xmin:xmax,ymin:ymax,:])\n",
    "            im1[lbls[xmin:xmax,ymin:ymax]!=lbl_id[i+1]]=255\n",
    "            cells.append(im1)\n",
    "            bboxes.append(region.bbox)\n",
    "    cell_df=pd.DataFrame(list(zip(cells,bboxes)),columns=[\"cell_image\",\"bbox\"])\n",
    "    cell_df['base']=os.path.basename(mask).split(\"_labeled_mask_corrected\")[0]\n",
    "    cell_dfs.append(cell_df)"
   ]
  },
  {
   "cell_type": "code",
   "execution_count": null,
   "metadata": {},
   "outputs": [],
   "source": [
    "cell_df=pd.concat(cell_dfs)\n",
    "cell_df.head()\n",
    "# bboxes=[]\n",
    "# cells=[]\n",
    "# img=skimage.io.imread(files[1])\n",
    "# lbls=skimage.io.imread(files[2])\n",
    "# lbl_id=sorted(np.unique(lbls.flatten()))\n",
    "# regions = skimage.measure.regionprops(lbls)\n",
    "# for i,region in enumerate(regions):\n",
    "#     xmin,ymin,xmax,ymax=region.bbox\n",
    "#     if xmin>0 and ymin>0 and xmax<255 and ymax<255:\n",
    "#         im1=copy.deepcopy(img[xmin:xmax,ymin:ymax,:])\n",
    "#         im1[lbls[xmin:xmax,ymin:ymax]!=lbl_id[i+1]]=255\n",
    "#         plt.figure()\n",
    "#         plt.imshow(im1)\n",
    "    \n",
    "#     print()\n",
    "# for i in range(1,lbls.max()+1):\n",
    "#     loc=np.where(lbls==i)\n",
    "#     xmin"
   ]
  },
  {
   "cell_type": "code",
   "execution_count": null,
   "metadata": {},
   "outputs": [],
   "source": [
    "cell_df.shape"
   ]
  },
  {
   "cell_type": "code",
   "execution_count": null,
   "metadata": {},
   "outputs": [],
   "source": [
    "cell_df.to_pickle(\"cell_datasets/tcia/cluster/tcia_cell_images.pkl\")"
   ]
  },
  {
   "cell_type": "code",
   "execution_count": null,
   "metadata": {},
   "outputs": [],
   "source": [
    "# plt.imshow(skimage.io.imread(files[2]))"
   ]
  },
  {
   "cell_type": "code",
   "execution_count": null,
   "metadata": {},
   "outputs": [],
   "source": [
    "# plt.imshow(skimage.io.imread(files[1]))"
   ]
  },
  {
   "cell_type": "code",
   "execution_count": null,
   "metadata": {},
   "outputs": [],
   "source": [
    "# skin v2 TODO!!!!"
   ]
  },
  {
   "cell_type": "code",
   "execution_count": null,
   "metadata": {},
   "outputs": [],
   "source": [
    "# liver v2"
   ]
  },
  {
   "cell_type": "code",
   "execution_count": null,
   "metadata": {},
   "outputs": [],
   "source": [
    "img=skimage.io.imread(\"intern_repo/_6151_1_orig.png\")"
   ]
  },
  {
   "cell_type": "code",
   "execution_count": null,
   "metadata": {},
   "outputs": [],
   "source": [
    "plt.imshow(img)"
   ]
  },
  {
   "cell_type": "code",
   "execution_count": null,
   "metadata": {},
   "outputs": [],
   "source": [
    "mask=skimage.io.imread(\"intern_repo/_6151_1_mask_.png\")\n",
    "plt.imshow(mask)"
   ]
  },
  {
   "cell_type": "code",
   "execution_count": null,
   "metadata": {},
   "outputs": [],
   "source": [
    "pd.Series(mask.flatten()).value_counts()"
   ]
  },
  {
   "cell_type": "code",
   "execution_count": null,
   "metadata": {},
   "outputs": [],
   "source": [
    "plt.hist(grayscale.flatten())"
   ]
  },
  {
   "cell_type": "code",
   "execution_count": null,
   "metadata": {},
   "outputs": [],
   "source": [
    "from skimage.color import rgb2gray\n",
    "\n",
    "grayscale = rgb2gray(mask)"
   ]
  },
  {
   "cell_type": "code",
   "execution_count": null,
   "metadata": {},
   "outputs": [],
   "source": [
    "# plt.imshow()"
   ]
  },
  {
   "cell_type": "code",
   "execution_count": null,
   "metadata": {},
   "outputs": [],
   "source": [
    "cell_mask=(np.abs(grayscale-0.)<0.1) & (np.abs(grayscale-0.)>0.05)"
   ]
  },
  {
   "cell_type": "code",
   "execution_count": null,
   "metadata": {},
   "outputs": [],
   "source": [
    "lbls=scilabel(cell_mask)[0]"
   ]
  },
  {
   "cell_type": "code",
   "execution_count": null,
   "metadata": {},
   "outputs": [],
   "source": [
    "# plt.imshow(np.abs(grayscale-0.8)<0.1)"
   ]
  },
  {
   "cell_type": "code",
   "execution_count": null,
   "metadata": {},
   "outputs": [],
   "source": [
    "# plt.imshow(np.abs(grayscale-0.2)<0.1)"
   ]
  },
  {
   "cell_type": "code",
   "execution_count": null,
   "metadata": {},
   "outputs": [],
   "source": [
    "\n",
    "pd.Series(grayscale.flatten()).value_counts().index.values.tolist()"
   ]
  },
  {
   "cell_type": "code",
   "execution_count": null,
   "metadata": {},
   "outputs": [],
   "source": []
  },
  {
   "cell_type": "code",
   "execution_count": null,
   "metadata": {},
   "outputs": [],
   "source": []
  }
 ],
 "metadata": {
  "kernelspec": {
   "display_name": "Python 3",
   "language": "python",
   "name": "python3"
  },
  "language_info": {
   "codemirror_mode": {
    "name": "ipython",
    "version": 3
   },
   "file_extension": ".py",
   "mimetype": "text/x-python",
   "name": "python",
   "nbconvert_exporter": "python",
   "pygments_lexer": "ipython3",
   "version": "3.7.6"
  }
 },
 "nbformat": 4,
 "nbformat_minor": 4
}
